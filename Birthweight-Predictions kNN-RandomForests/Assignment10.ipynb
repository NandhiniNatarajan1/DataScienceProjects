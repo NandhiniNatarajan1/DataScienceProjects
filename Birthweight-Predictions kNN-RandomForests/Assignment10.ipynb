{
 "cells": [
  {
   "cell_type": "markdown",
   "metadata": {},
   "source": [
    "# DS 3000 - Assignment [10]\n",
    "\n",
    "**Student Name**: [Nandhini Natarajan]\n",
    "\n",
    "**Date**: [November 9, 2024]\n",
    "\n",
    "### Submission Instructions\n",
    "Submit this `ipynb` file to canvas.\n",
    "\n",
    "The `ipynb` format stores outputs from the last time you ran the notebook.  (When you open a notebook it has the figures and outputs of the last time you ran it too).  To ensure that your submitted `ipynb` file represents your latest code, make sure to give a fresh run `Kernel > Restart & Run All` just before uploading the `ipynb` file to Canvas.\n",
    "\n",
    "### Academic Integrity\n",
    "\n",
    "**Writing your homework is an individual effort.**  You may discuss general python problems with other students but under no circumstances should you observe another student's code which was written for this assignment, from this year or past years.  Pop into office hours or DM us in MS Teams if you have a specific question about your work or if you would like another pair of eyes or talk through your code.\n",
    "\n",
    "Don't forget to cite websites which helped you solve a problem in a unique way.  You can do this in markdown near the code or with a simple one-line comment. You do not need to cite the official python documentation.\n",
    "\n",
    "**Documentation / style counts for credit**  Please refer to the Pep-8 style, to improve the readability and consistency of your Python code. For more information, read the following article [How to Write Beautiful Python Code With PEP 8](https://realpython.com/python-pep8/) or ask your TA's for tips.\n",
    "\n",
    "**NOTE:<span style='color:red'> Write python expressions to answer ALL questions below and ensure that you use the `print()` function to display the output.</span>** Each question should be answered in a new code cell. For example, your solution for question 1.1 should be in a different code cell from your solution for question 1.2."
   ]
  },
  {
   "cell_type": "code",
   "execution_count": 1,
   "metadata": {},
   "outputs": [],
   "source": [
    "# imports\n",
    "\n",
    "import pandas as pd\n",
    "import matplotlib.pyplot as plt\n",
    "from sklearn.metrics import accuracy_score, classification_report\n",
    "from sklearn.model_selection import train_test_split\n",
    "from sklearn.tree import DecisionTreeClassifier\n",
    "from sklearn.neighbors import KNeighborsRegressor\n",
    "from sklearn.ensemble import RandomForestRegressor\n",
    "from sklearn.metrics import mean_squared_error, r2_score"
   ]
  },
  {
   "cell_type": "markdown",
   "metadata": {},
   "source": [
    "## Question 1: \n",
    "load the data directly from the URL into a DataFrame."
   ]
  },
  {
   "cell_type": "code",
   "execution_count": 2,
   "metadata": {},
   "outputs": [
    {
     "name": "stdout",
     "output_type": "stream",
     "text": [
      "      case  bwt  gestation  parity   age  height  weight  smoke\n",
      "0        1  120      284.0       0  27.0    62.0   100.0    0.0\n",
      "1        2  113      282.0       0  33.0    64.0   135.0    0.0\n",
      "2        3  128      279.0       0  28.0    64.0   115.0    1.0\n",
      "3        4  123        NaN       0  36.0    69.0   190.0    0.0\n",
      "4        5  108      282.0       0  23.0    67.0   125.0    1.0\n",
      "...    ...  ...        ...     ...   ...     ...     ...    ...\n",
      "1231  1232  113      275.0       1  27.0    60.0   100.0    0.0\n",
      "1232  1233  128      265.0       0  24.0    67.0   120.0    0.0\n",
      "1233  1234  130      291.0       0  30.0    65.0   150.0    1.0\n",
      "1234  1235  125      281.0       1  21.0    65.0   110.0    0.0\n",
      "1235  1236  117      297.0       0  38.0    65.0   129.0    0.0\n",
      "\n",
      "[1236 rows x 8 columns]\n"
     ]
    }
   ],
   "source": [
    "url = \"https://drive.google.com/uc?id=145n4_o1g5ZMrnV_DZt8tR9rjZLlJvU5K\"\n",
    "birth_weights_df = pd.read_csv(url)\n",
    "\n",
    "print(birth_weights_df)\n"
   ]
  },
  {
   "cell_type": "markdown",
   "metadata": {},
   "source": [
    "## Question 2: \n",
    "\n",
    "Data Prep & EDA\n",
    "Prepare the data for analysis. Ensure that you address the following:\n",
    "Perform EDA using the dataset to demonstrate patterns.\n",
    "Handle any missing data and invalid data. Justify your approach.\n",
    "Plot a histogram of the birth weight and explain the overall distribution\n"
   ]
  },
  {
   "cell_type": "code",
   "execution_count": 3,
   "metadata": {},
   "outputs": [
    {
     "name": "stdout",
     "output_type": "stream",
     "text": [
      "case           int64\n",
      "bwt            int64\n",
      "gestation    float64\n",
      "parity         int64\n",
      "age          float64\n",
      "height       float64\n",
      "weight       float64\n",
      "smoke        float64\n",
      "dtype: object\n",
      "<class 'pandas.core.frame.DataFrame'>\n",
      "Index: 1174 entries, 0 to 1235\n",
      "Data columns (total 8 columns):\n",
      " #   Column     Non-Null Count  Dtype\n",
      "---  ------     --------------  -----\n",
      " 0   case       1174 non-null   int64\n",
      " 1   bwt        1174 non-null   int64\n",
      " 2   gestation  1174 non-null   int64\n",
      " 3   parity     1174 non-null   int64\n",
      " 4   age        1174 non-null   int64\n",
      " 5   height     1174 non-null   int64\n",
      " 6   weight     1174 non-null   int64\n",
      " 7   smoke      1174 non-null   int64\n",
      "dtypes: int64(8)\n",
      "memory usage: 82.5 KB\n"
     ]
    },
    {
     "data": {
      "image/png": "[encoded data removed]",
      "text/plain": [
       "<Figure size 640x480 with 1 Axes>"
      ]
     },
     "metadata": {},
     "output_type": "display_data"
    }
   ],
   "source": [
    "print(birth_weights_df.dtypes)\n",
    "\n",
    "## drop rows if one value contains NaN values\n",
    "birth_weights_df.dropna(inplace=True)\n",
    "\n",
    "##change types\n",
    "birth_weights_df['case'] = birth_weights_df['case'].astype('int')\n",
    "birth_weights_df['gestation'] = birth_weights_df['gestation'].astype('int')\n",
    "birth_weights_df['age'] = birth_weights_df['age'].astype('int')\n",
    "birth_weights_df['height'] = birth_weights_df['height'].astype('int')\n",
    "birth_weights_df['weight'] = birth_weights_df['weight'].astype('int')\n",
    "birth_weights_df['smoke'] = birth_weights_df['smoke'].astype('int')\n",
    "\n",
    "birth_weights_df.info()\n",
    "birth_weights_df.describe\n",
    "\n",
    "\n",
    "birth_weights_df.hist(column='bwt')\n",
    "plt.xlabel('Birth weight (oz)')\n",
    "plt.ylabel('Count')\n",
    "plt.title('Histogram of Birthweight')\n",
    "plt.show()"
   ]
  },
  {
   "cell_type": "markdown",
   "metadata": {},
   "source": [
    "EDA anaylsis:\n",
    "\n",
    "When I was handling missing data, I noticed that our data set a some Nan values throughout the dataset. To handle these values, I used the method of deletion. I deleted the rows that contained a Nan value. This reduced my count to 1174 values. I also changed the float types to int. This is becasue when I looked at the data dictionary, non of the values need to be a float type. \n",
    "\n",
    "Histogram Distribution:\n",
    "\n",
    "Based on my histogram, I can see a normally disributed graph with a peak around 120 oz. The minimum is around 60 while the maximum is around 170. This gives us a range of around 110 oz. There are no clusters or outliers in the histogram. "
   ]
  },
  {
   "cell_type": "markdown",
   "metadata": {},
   "source": [
    "## Question 3: \n",
    "\n",
    "(5 pts) Feature Selection\n",
    "Demonstrate which features are useful to build the model. Briefly explain the reason for the features that you selected. Note: You can explore correlations, test hypothesis and/or other techniques. Remember that Data Science relies heavily on experimentation. Therefore, you are encouraged to experiment with your data.\n",
    "    * Tip #1: ensure that you carefully consider each feature and share the pros and cons of your decisions.\n",
    "    * Tip #2: you are predicting the birth weight, therefore it should not be one of your explanatory variables."
   ]
  },
  {
   "cell_type": "markdown",
   "metadata": {},
   "source": [
    "Case:\n",
    "\n",
    "This is a feature that is not useful to build my model as it serves as an id number.\n",
    "\n",
    "Gestation:\n",
    "This is a feature that is helpful to build my model as it impacts the birthweight of baby. My prediction is the that higher the length of gestation the birthweight would be higher. Gestation might interact with other features, like maternal age or smoking, which could necessitate interaction terms or additional adjustments in the model.\n",
    "\n",
    "parity:\n",
    "Parity could influence birth weight, as research suggests that first pregnancies often result in lower birth weights compared to subsequent pregnancies. Including this as a binary indicator (0 or 1) is likely to add useful context. A con of useing this is that we dont know if it is the mother 2nd or 3rd pregancy. We only know that it is not the first. \n",
    "\n",
    "age:\n",
    "Maternal age could correlate with birth weight, as older mothers may have more established health patterns, and younger mothers might have a higher risk of certain complications. This feature could be relevant but would need exploration to verify its effect. The effect of maternal age on birth weight may be non-linear; younger and older maternal ages might both be associated with lower birth weights, which a linear model might not fully capture.\n",
    "\n",
    "height:\n",
    "A mother’s height may impact birth weight, as taller mothers might have larger babies due to genetic factors. It’s worth exploring the correlation between maternal height and birth weight. Cons: Height varies widely across populations, and height's association with birth weight could differ among ethnic group\n",
    "\n",
    "weight:\n",
    "Maternal weight before pregnancy is a known factor that can influence fetal growth and birth weight. Heavier mothers tend to have babies with higher birth weights, so this feature is likely valuable. Weight could be a proxy for other health conditions which affect birth weight independently\n",
    "\n",
    "smoke:\n",
    "Smoking during pregnancy is associated with lower birth weights due to restricted fetal growth. This feature can provide significant insight into birth weight outcomes. Cons: A binary indicator doesn’t account for smoking intensity or frequency."
   ]
  },
  {
   "cell_type": "markdown",
   "metadata": {},
   "source": [
    "## Question 4\n",
    "\n",
    "Data Partitioning\n",
    "(2 pts) Partition the prepared data into train/test sets, ensure that your partitions are reproducible. Encode any categorical variables in your training set. Then, use the appropriate approach to encode your test set.\n"
   ]
  },
  {
   "cell_type": "code",
   "execution_count": 4,
   "metadata": {},
   "outputs": [],
   "source": [
    "#encode the categorical feature \n",
    "\n",
    "birth_weights_df = pd.get_dummies(birth_weights_df, drop_first=True)\n",
    "\n",
    "# partition the prepared data into train/test sets\n",
    "\n",
    "#input\n",
    "X = birth_weights_df[['age', 'gestation', 'parity', 'height', 'weight', 'smoke']]\n",
    "#target\n",
    "y = birth_weights_df['bwt']\n",
    "\n",
    "X_train, X_test, y_train, y_test = train_test_split(X, y, test_size=0.3, random_state=7)\n",
    "\n"
   ]
  },
  {
   "cell_type": "markdown",
   "metadata": {},
   "source": [
    "## Question 5\n",
    "Model Development\n",
    "(5 pts) Using the Random Forest algorithm, build a machine learning model that predicts the birth weight. \n",
    "Think about the following: Are you performing classification or regression? Ensure that you choose the appropriate Random Forest Classifier/Regressor from scikit-learn."
   ]
  },
  {
   "cell_type": "code",
   "execution_count": 5,
   "metadata": {},
   "outputs": [
    {
     "name": "stdout",
     "output_type": "stream",
     "text": [
      "Mean Squared Error: 297.94\n",
      "R-squared: 0.14\n"
     ]
    }
   ],
   "source": [
    "rf_regressor = RandomForestRegressor(random_state=7)\n",
    "\n",
    "rf_regressor.fit(X_train, y_train)\n",
    "\n",
    "y_pred = rf_regressor.predict(X_test)\n",
    "mse = mean_squared_error(y_test, y_pred)\n",
    "r2 = r2_score(y_test, y_pred)\n",
    "\n",
    "print(\"Mean Squared Error:\", mse.round(2))\n",
    "print(\"R-squared:\", r2.round(2))"
   ]
  },
  {
   "cell_type": "markdown",
   "metadata": {},
   "source": [
    "RandomForestRegression is the appropriate model since birth weight is a continuous variable. We are using regression in this example. "
   ]
  },
  {
   "cell_type": "markdown",
   "metadata": {},
   "source": [
    "## Question 6\n",
    "Model Evaluation\n",
    "(5 pts) Evaluate the predictions from your model and comment on the results. Ensure that you choose the appropriate metric to evaluate the model and round your calculations to two decimal places. Remember that we evaluate models differently depending on the task, i.e. classification or regression."
   ]
  },
  {
   "cell_type": "markdown",
   "metadata": {},
   "source": [
    "MSE provides insight into the average squared difference between the pred and actual value. In our case it is 297.943. For our data, I would say that this numer is a little high as 0 would mean that the actual value and predicted value are the same. The value of 297.943 indicates that there a noticable difference between the predicted and actual value. \n",
    "\n",
    "R² explains the proportion of variance in the target variable explained by the model. In our case it is 0.138. This shows that 13.8 percent of teh variability in our data is explained by the regression model. since our value is small, it shows that our data is showing a low corralation.\n",
    "\n",
    "I choose to use RandomForestRegression.\n"
   ]
  },
  {
   "cell_type": "markdown",
   "metadata": {},
   "source": [
    "## Question 7\n",
    "\n",
    "Model Tuning\n",
    "(5 pts) What are your thoughts on the model's prediction capability? Did it do a good job of predicting the birth weight?\n",
    "Note: it is okay if your first version of the model is not the best. However, there are strategies that we can use to improve it, such as tuning.\n",
    "Tune the model: you can control the number of trees in your forest using the n_estimators parameter. Refer to the sample code from the lecture and also view the documentation. to learn more about this algorithm and its parameters. Try at least five different values for the n_estimators parameter to determine if the model improved. Show all your steps to create, evaluate and tune each version of the model.\n",
    "Indicate which model performed the best."
   ]
  },
  {
   "cell_type": "code",
   "execution_count": 6,
   "metadata": {},
   "outputs": [
    {
     "name": "stdout",
     "output_type": "stream",
     "text": [
      "n_estimators: 100 | Mean Squared Error: 297.94 | R-squared: 0.1377\n",
      "n_estimators: 200 | Mean Squared Error: 296.61 | R-squared: 0.1416\n",
      "n_estimators: 300 | Mean Squared Error: 296.71 | R-squared: 0.1413\n",
      "n_estimators: 500 | Mean Squared Error: 295.44 | R-squared: 0.1449\n",
      "n_estimators: 1000 | Mean Squared Error: 294.57 | R-squared: 0.1475\n",
      "\n",
      "Best Model -> n_estimators: 1000 | Mean Squared Error: 294.57 | R-squared: 0.1475\n"
     ]
    }
   ],
   "source": [
    "n_estimators_values = [100, 200, 300, 500, 1000]\n",
    "\n",
    "results = []\n",
    "\n",
    "# Loop over the values for n_estimators\n",
    "for n in n_estimators_values:\n",
    "    rf_regressor = RandomForestRegressor(n_estimators=n, random_state=7)\n",
    "    rf_regressor.fit(X_train, y_train)\n",
    "    \n",
    "    y_pred = rf_regressor.predict(X_test)\n",
    "\n",
    "    mse = mean_squared_error(y_test, y_pred)\n",
    "    r2 = r2_score(y_test, y_pred)\n",
    "    \n",
    "    print(f\"n_estimators: {n} | Mean Squared Error: {mse:.2f} | R-squared: {r2:.4f}\")\n",
    "    results.append((n, mse, r2))\n",
    "\n",
    "best_model = max(results, key=lambda x: x[2])\n",
    "print(f\"\\nBest Model -> n_estimators: {best_model[0]} | Mean Squared Error: {best_model[1]:.2f} | R-squared: {best_model[2]:.4f}\")\n"
   ]
  },
  {
   "cell_type": "markdown",
   "metadata": {},
   "source": [
    "I would saw that the models predictive capability didn't do too well as the mse value was rather high and the r^2 value was low. After the new model, we can see that a higher n_estimators value increased the r-squared value and creates a better model."
   ]
  },
  {
   "cell_type": "markdown",
   "metadata": {},
   "source": [
    "## Question 8\n",
    "\n",
    "(15 pts) Perform steps 5-7 using the k-nn algorithm. Perform model tuning using at least 5 different values of k. Show all your steps to create, evaluate and tune each version of the model. Indicate which model performed the best."
   ]
  },
  {
   "cell_type": "code",
   "execution_count": 7,
   "metadata": {},
   "outputs": [
    {
     "name": "stdout",
     "output_type": "stream",
     "text": [
      "k: 3 | Mean Squared Error: 348.63 | R-squared: -0.0090\n",
      "k: 5 | Mean Squared Error: 332.31 | R-squared: 0.0382\n",
      "k: 7 | Mean Squared Error: 308.40 | R-squared: 0.1074\n",
      "k: 10 | Mean Squared Error: 314.75 | R-squared: 0.0890\n",
      "k: 15 | Mean Squared Error: 305.27 | R-squared: 0.1165\n",
      "\n",
      "Best Model -> k: 15 | Mean Squared Error: 305.27 | R-squared: 0.1165\n"
     ]
    }
   ],
   "source": [
    "\n",
    "k_values = [3, 5, 7, 10, 15]\n",
    "\n",
    "results = []\n",
    "\n",
    "for k in k_values:\n",
    "    knn_regressor = KNeighborsRegressor(n_neighbors=k)\n",
    "    knn_regressor.fit(X_train, y_train)\n",
    "\n",
    "    y_pred = knn_regressor.predict(X_test)\n",
    "    \n",
    "    mse = mean_squared_error(y_test, y_pred)\n",
    "    r2 = r2_score(y_test, y_pred)\n",
    "    \n",
    "\n",
    "    print(f\"k: {k} | Mean Squared Error: {mse:.2f} | R-squared: {r2:.4f}\")\n",
    "    results.append((k, mse, r2))\n",
    "\n",
    "best_model = max(results, key=lambda x: x[2])\n",
    "print(f\"\\nBest Model -> k: {best_model[0]} | Mean Squared Error: {best_model[1]:.2f} | R-squared: {best_model[2]:.4f}\")"
   ]
  },
  {
   "cell_type": "markdown",
   "metadata": {},
   "source": [
    "## Question 9\n",
    "(3 pts) Compare both the best model from both the Random Forest and k-NN algorithms and explain which model is the most suitable to predict birthweight. Justify your response.\n",
    "\n",
    "Based on the mse and r-squared values from the 3 of these models, the random forest with the different n_estimators parameter was the best predictor of birthweight. We can see the the mse and r^2 in the random forest without the n-estimators parameterer was (Mean Squared Error: 297.94, R-squared: 0.14). In the one with the n_estimators parameter it was  (Mean Squared Error: 294.57 | R-squared: 0.1475). In the k-NN algorithms it was (Mean Squared Error: 305.27 | R-squared: 0.1165) when k=15. When comparing the three of these we see the higest r-squared value of 0.1475. We do se a slightly higher mean squared error compared to the 1st random forest model. "
   ]
  },
  {
   "cell_type": "markdown",
   "metadata": {},
   "source": [
    "## Question 10 \n",
    "(+5 bonus points) The Random forest has a method that returns the importance of each feature in your model. Review the documentation to learn about feature importance. After which, write the appropriate code that demonstrates which features were the most important when making the predictions. Visualize the feature importance using the best model and explain the results."
   ]
  },
  {
   "cell_type": "code",
   "execution_count": 8,
   "metadata": {},
   "outputs": [
    {
     "data": {
      "image/png": "[encoded data removed]",
      "text/plain": [
       "<Figure size 1000x600 with 1 Axes>"
      ]
     },
     "metadata": {},
     "output_type": "display_data"
    }
   ],
   "source": [
    "best_rf_regressor = RandomForestRegressor(n_estimators=best_model[0], random_state=7)\n",
    "best_rf_regressor.fit(X_train, y_train)\n",
    "\n",
    "feature_importances = best_rf_regressor.feature_importances_\n",
    "\n",
    "features_df = pd.DataFrame({\n",
    "    'Feature': X_train.columns,\n",
    "    'Importance': feature_importances\n",
    "})\n",
    "\n",
    "features_df = features_df.sort_values(by='Importance', ascending=False)\n",
    "\n",
    "plt.figure(figsize=(10, 6))\n",
    "plt.barh(features_df['Feature'], features_df['Importance'], color='skyblue')\n",
    "plt.xlabel('Feature Importance Score')\n",
    "plt.ylabel('Feature')\n",
    "plt.title('Feature Importance in Random Forest Model')\n",
    "plt.gca().invert_yaxis()\n",
    "plt.show()\n"
   ]
  },
  {
   "cell_type": "markdown",
   "metadata": {},
   "source": [
    "This shows that genstation was the most important feature when looking at the birthweight of a baby and parity was the least important feature. This suprissed me because I originally thought that smoking and age would be the top two features that impact the childs birthweight."
   ]
  },
  {
   "cell_type": "markdown",
   "metadata": {},
   "source": [
    "## Helpful resources \n",
    "Don't forget to cite websites which helped you solve a problem in a unique way.  You can do this in markdown near the code or with a simple one-line comment inside the code cell, or you can list them below. \n",
    "\n",
    "You do not need to cite the official python documentation.\n"
   ]
  }
 ],
 "metadata": {
  "kernelspec": {
   "display_name": "Python 3",
   "language": "python",
   "name": "python3"
  },
  "language_info": {
   "codemirror_mode": {
    "name": "ipython",
    "version": 3
   },
   "file_extension": ".py",
   "mimetype": "text/x-python",
   "name": "python",
   "nbconvert_exporter": "python",
   "pygments_lexer": "ipython3",
   "version": "3.11.5"
  }
 },
 "nbformat": 4,
 "nbformat_minor": 4
}
