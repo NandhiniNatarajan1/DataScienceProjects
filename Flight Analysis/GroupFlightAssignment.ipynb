{
 "cells": [
  {
   "cell_type": "markdown",
   "metadata": {},
   "source": [
    "# DS 3000 - Assignment [TODO: enter assignment number]\n",
    "\n",
    "**Student Name**: [TODO: Enter your name here]\n",
    "\n",
    "**Date**: [TODO: Enter the date]\n",
    "\n",
    "\n",
    "### Submission Instructions\n",
    "Submit this `ipynb` file to canvas.\n",
    "\n",
    "The `ipynb` format stores outputs from the last time you ran the notebook.  (When you open a notebook it has the figures and outputs of the last time you ran it too).  To ensure that your submitted `ipynb` file represents your latest code, make sure to give a fresh run `Kernel > Restart & Run All` just before uploading the `ipynb` file to Canvas.\n",
    "\n",
    "### Academic Integrity\n",
    "\n",
    "**Writing your homework is an individual effort.**  You may discuss general python problems with other students but under no circumstances should you observe another student's code which was written for this assignment, from this year or past years.  Pop into office hours or DM us in MS Teams if you have a specific question about your work or if you would like another pair of eyes or talk through your code.\n",
    "\n",
    "Don't forget to cite websites which helped you solve a problem in a unique way.  You can do this in markdown near the code or with a simple one-line comment. You do not need to cite the official python documentation.\n",
    "\n",
    "**Documentation / style counts for credit**  Please refer to the Pep-8 style, to improve the readability and consistency of your Python code. For more information, read the following article [How to Write Beautiful Python Code With PEP 8](https://realpython.com/python-pep8/) or ask your TA's for tips.\n",
    "\n",
    "**NOTE:<span style='color:red'> Write python expressions to answer ALL questions below and ensure that you use the `print()` function to display the output.</span>** Each question should be answered in a new code cell. For example, your solution for question 1.1 should be in a different code cell from your solution for question 1.2."
   ]
  },
  {
   "cell_type": "markdown",
   "metadata": {},
   "source": [
    "## Question 1: \n",
    "\n",
    "TODO: Copy/Paste the instructions for this question.\n"
   ]
  },
  {
   "cell_type": "code",
   "execution_count": null,
   "metadata": {},
   "outputs": [
    {
     "ename": "",
     "evalue": "",
     "output_type": "error",
     "traceback": [
      "\u001b[1;31mRunning cells with '/Users/nandhininatarajan/.pyenv/versions/3.9.2/bin/python' requires the ipykernel package.\n",
      "\u001b[1;31mRun the following command to install 'ipykernel' into the Python environment. \n",
      "\u001b[1;31mCommand: '/Users/nandhininatarajan/.pyenv/versions/3.9.2/bin/python -m pip install ipykernel -U --force-reinstall'"
     ]
    }
   ],
   "source": [
    "import pandas as pd\n",
    "import matplotlib.pyplot as plt\n",
    "import seaborn as sns\n",
    "import numpy as np\n",
    "\n",
    "\n",
    "# load file\n",
    "FILENAME = \"2019_ONTIME_REPORTING_FSW.csv\"\n",
    "flight_data_df = pd.read_csv('flight_data_2109.csv')\n",
    "\n",
    "# checks the dimensions and inspects content in data\n",
    "print('There are {} rows and {} columns in this dataset.'.format\n",
    "              (flight_data_df.shape[0], flight_data_df.shape[1]))\n",
    "\n",
    "# prints the first 4 rows of the dataset to get a glimpse of the data\n",
    "flight_data_df.head(4)"
   ]
  },
  {
   "cell_type": "markdown",
   "metadata": {},
   "source": [
    "## Question 2: \n",
    "TODO: Copy/Paste the instructions for this question.\n"
   ]
  },
  {
   "cell_type": "code",
   "execution_count": null,
   "metadata": {},
   "outputs": [
    {
     "ename": "",
     "evalue": "",
     "output_type": "error",
     "traceback": [
      "\u001b[1;31mRunning cells with '/Users/nandhininatarajan/.pyenv/versions/3.9.2/bin/python' requires the ipykernel package.\n",
      "\u001b[1;31mRun the following command to install 'ipykernel' into the Python environment. \n",
      "\u001b[1;31mCommand: '/Users/nandhininatarajan/.pyenv/versions/3.9.2/bin/python -m pip install ipykernel -U --force-reinstall'"
     ]
    }
   ],
   "source": [
    "# prints out column information about the dataset\n",
    "flight_data_df.info()"
   ]
  },
  {
   "cell_type": "code",
   "execution_count": null,
   "metadata": {},
   "outputs": [
    {
     "ename": "",
     "evalue": "",
     "output_type": "error",
     "traceback": [
      "\u001b[1;31mRunning cells with '/Users/nandhininatarajan/.pyenv/versions/3.9.2/bin/python' requires the ipykernel package.\n",
      "\u001b[1;31mRun the following command to install 'ipykernel' into the Python environment. \n",
      "\u001b[1;31mCommand: '/Users/nandhininatarajan/.pyenv/versions/3.9.2/bin/python -m pip install ipykernel -U --force-reinstall'"
     ]
    }
   ],
   "source": [
    "# convert 'FL_DATE' to datetime format\n",
    "flight_data_df['FL_DATE'] = pd.to_datetime(flight_data_df['FL_DATE'], format='%Y-%m-%d')\n",
    "\n",
    "# initalzing variables to use for converting the columns\n",
    "columns_to_string = ['CARRIER_CODE', 'TAIL_NUM', 'FL_NUM']\n",
    "flight_data_df[columns_to_string] = flight_data_df[columns_to_string].astype('string')\n",
    "\n",
    "# convert DEP_DELAY, ARR_DELAY, and times (DEP_TIME, ARR_TIME) to integers\n",
    "columns_to_integer = ['DEP_DELAY', 'ARR_DELAY', 'DEP_TIME', 'ARR_TIME']\n",
    "flight_data_df[columns_to_integer] = flight_data_df[columns_to_integer].apply(pd.to_numeric, errors='coerce').astype('Int64')\n",
    "\n",
    "# zero padding for time-related columns and flight number\n",
    "flight_data_df['FL_NUM'] = flight_data_df['FL_NUM'].astype('Int64').astype('string').str.zfill(4)\n",
    "flight_data_df['DEP_TIME'] = flight_data_df['DEP_TIME'].astype('Int64').astype('string').str.zfill(4)\n",
    "flight_data_df['ARR_TIME'] = flight_data_df['ARR_TIME'].astype('Int64').astype('string').str.zfill(4)\n",
    "\n",
    "# converts origin and destination columns to categories\n",
    "flight_data_df[['ORIGIN', 'ORIGIN_ST', 'DEST', 'DEST_ST']] = flight_data_df[['ORIGIN', 'ORIGIN_ST', 'DEST', 'DEST_ST']].astype('category')\n",
    "\n",
    "# concatenation of columns\n",
    "flight_data_df['FLIGHT_ID'] = flight_data_df['CARRIER_CODE'] + flight_data_df['FL_NUM']\n",
    "flight_data_df['DEPARTURE_DATETIME'] = flight_data_df['FL_DATE'].astype('string') + ' ' + flight_data_df['DEP_TIME']\n",
    "flight_data_df['ARRIVAL_DATETIME'] = flight_data_df['FL_DATE'].astype('string') + ' ' + flight_data_df['ARR_TIME']\n",
    "\n",
    "# convert 'DEPARTURE_DATETIME' and 'ARRIVAL_DATETIME' into to datetime datatype\n",
    "flight_data_df['DEPARTURE_DATETIME'] = pd.to_datetime(flight_data_df['DEPARTURE_DATETIME'], errors='coerce')\n",
    "flight_data_df['ARRIVAL_DATETIME'] = pd.to_datetime(flight_data_df['ARRIVAL_DATETIME'], errors='coerce')\n",
    "\n",
    "# print the changes\n",
    "print(\"Updated columns:\")\n",
    "flight_data_df.info()"
   ]
  },
  {
   "cell_type": "code",
   "execution_count": null,
   "metadata": {},
   "outputs": [
    {
     "ename": "",
     "evalue": "",
     "output_type": "error",
     "traceback": [
      "\u001b[1;31mRunning cells with '/Users/nandhininatarajan/.pyenv/versions/3.9.2/bin/python' requires the ipykernel package.\n",
      "\u001b[1;31mRun the following command to install 'ipykernel' into the Python environment. \n",
      "\u001b[1;31mCommand: '/Users/nandhininatarajan/.pyenv/versions/3.9.2/bin/python -m pip install ipykernel -U --force-reinstall'"
     ]
    }
   ],
   "source": [
    "# checks for the missing values in each column from the dataset\n",
    "missing_values = flight_data_df.isnull().sum()\n",
    "\n",
    "# displays columns with missing values\n",
    "print(\"\\nMissing Values Count:\")\n",
    "print(missing_values)"
   ]
  },
  {
   "cell_type": "code",
   "execution_count": null,
   "metadata": {},
   "outputs": [
    {
     "ename": "",
     "evalue": "",
     "output_type": "error",
     "traceback": [
      "\u001b[1;31mRunning cells with '/Users/nandhininatarajan/.pyenv/versions/3.9.2/bin/python' requires the ipykernel package.\n",
      "\u001b[1;31mRun the following command to install 'ipykernel' into the Python environment. \n",
      "\u001b[1;31mCommand: '/Users/nandhininatarajan/.pyenv/versions/3.9.2/bin/python -m pip install ipykernel -U --force-reinstall'"
     ]
    }
   ],
   "source": [
    "# drops missing values\n",
    "flight_data_df = flight_data_df.dropna()\n",
    "\n",
    "# checks to see if we are accurately deleted the missing data\n",
    "missing_values = flight_data_df.isnull().sum()\n",
    "\n",
    "# displays updated columns\n",
    "print('There are {} rows and {} columns after dropping the missing values and creating new columns in this dataset.'.format\n",
    "              (flight_data_df.shape[0], flight_data_df.shape[1]))\n",
    "print(\"\\nUpdated Missing Values Count:\")\n",
    "print(missing_values)"
   ]
  },
  {
   "cell_type": "code",
   "execution_count": null,
   "metadata": {},
   "outputs": [
    {
     "ename": "",
     "evalue": "",
     "output_type": "error",
     "traceback": [
      "\u001b[1;31mRunning cells with '/Users/nandhininatarajan/.pyenv/versions/3.9.2/bin/python' requires the ipykernel package.\n",
      "\u001b[1;31mRun the following command to install 'ipykernel' into the Python environment. \n",
      "\u001b[1;31mCommand: '/Users/nandhininatarajan/.pyenv/versions/3.9.2/bin/python -m pip install ipykernel -U --force-reinstall'"
     ]
    }
   ],
   "source": [
    "# groups the columns together and calculates the average\n",
    "avg_delays = flight_data_df.groupby('CARRIER_CODE')[['DEP_DELAY', 'ARR_DELAY']].mean().reset_index()\n",
    "\n",
    "# plots side by side bar chart using both 'DEP_DELAY' & 'ARR_DELAY' columns\n",
    "avg_delays.plot(kind='bar', x='CARRIER_CODE', y=['DEP_DELAY', 'ARR_DELAY'], figsize=(12, 6), color=['green', 'lightblue'], edgecolor='black')\n",
    "\n",
    "# styles the graph\n",
    "plt.title('Average Departure and Arrival Delays by Airline')\n",
    "plt.xlabel('Airline Code')\n",
    "plt.ylabel('Average Delay (minutes)')\n",
    "plt.xticks(rotation=45)\n",
    "plt.legend(['Dep Delay', 'Arr Delay'])\n",
    "plt.show()"
   ]
  },
  {
   "cell_type": "code",
   "execution_count": null,
   "metadata": {},
   "outputs": [
    {
     "ename": "",
     "evalue": "",
     "output_type": "error",
     "traceback": [
      "\u001b[1;31mRunning cells with '/Users/nandhininatarajan/.pyenv/versions/3.9.2/bin/python' requires the ipykernel package.\n",
      "\u001b[1;31mRun the following command to install 'ipykernel' into the Python environment. \n",
      "\u001b[1;31mCommand: '/Users/nandhininatarajan/.pyenv/versions/3.9.2/bin/python -m pip install ipykernel -U --force-reinstall'"
     ]
    }
   ],
   "source": [
    "# extract the month and year from FL_DATE after it was converted\n",
    "flight_data_df['Yr_Month'] = flight_data_df['FL_DATE'].dt.to_period('M')\n",
    "\n",
    "# group the month and sum the delays together\n",
    "monthly_delays = flight_data_df.groupby('Yr_Month')[['DEP_DELAY', 'ARR_DELAY']].sum().reset_index()\n",
    "\n",
    "# create the line graph\n",
    "plt.figure(figsize=(10, 6),dpi=120)\n",
    "plt.plot(monthly_delays['Yr_Month'].astype(str), monthly_delays['DEP_DELAY'], label='Dep Delay', color='orange', marker='o')\n",
    "plt.plot(monthly_delays['Yr_Month'].astype(str), monthly_delays['ARR_DELAY'], label='Arr Delay', color='blue', marker='o')\n",
    "\n",
    "# style the line graph\n",
    "plt.title('Total Delays Over Time by Month of the Year')\n",
    "plt.xlabel('Month')\n",
    "plt.ylabel('Total Delay (mins)')\n",
    "plt.xticks(rotation=45)\n",
    "plt.legend()\n",
    "plt.show()"
   ]
  },
  {
   "cell_type": "code",
   "execution_count": null,
   "metadata": {},
   "outputs": [
    {
     "ename": "",
     "evalue": "",
     "output_type": "error",
     "traceback": [
      "\u001b[1;31mRunning cells with '/Users/nandhininatarajan/.pyenv/versions/3.9.2/bin/python' requires the ipykernel package.\n",
      "\u001b[1;31mRun the following command to install 'ipykernel' into the Python environment. \n",
      "\u001b[1;31mCommand: '/Users/nandhininatarajan/.pyenv/versions/3.9.2/bin/python -m pip install ipykernel -U --force-reinstall'"
     ]
    }
   ],
   "source": [
    "# extract the month from 'FL_DATE'\n",
    "flight_data_df['Month'] = flight_data_df['FL_DATE'].dt.month\n",
    "\n",
    "# group by the month and sum up both 'DEP_DELAY' and 'ARR_DELAY'\n",
    "monthly_delays = flight_data_df.groupby('Month')[['DEP_DELAY', 'ARR_DELAY']].sum().reset_index()\n",
    "\n",
    "# identify the month with the most total delays\n",
    "monthly_delays['Total_Delay'] = monthly_delays['DEP_DELAY'] + monthly_delays['ARR_DELAY']\n",
    "most_delayed_month = monthly_delays.loc[monthly_delays['Total_Delay'].idxmax(), 'Month']\n",
    "\n",
    "# filter the dataset to only include flights from the month with the most delays\n",
    "most_delayed_month_data = flight_data_df[flight_data_df['Month'] == most_delayed_month]\n",
    "\n",
    "# group by 'ORIGIN' and calculate total delays\n",
    "airport_delays = most_delayed_month_data.groupby('ORIGIN', observed=True)[['DEP_DELAY', 'ARR_DELAY']].sum().reset_index()\n",
    "\n",
    "# calculate total delays by airport and sort the airports by the highest delays\n",
    "airport_delays['Total_Delay'] = airport_delays['DEP_DELAY'] + airport_delays['ARR_DELAY']\n",
    "most_delayed_airports = airport_delays.sort_values(by='Total_Delay', ascending=False).head()\n",
    "\n",
    "\n",
    "# style and plot graph\n",
    "plt.figure(figsize=(10, 6))\n",
    "plt.bar(most_delayed_airports['ORIGIN'], most_delayed_airports['Total_Delay'],\n",
    "        color='navajowhite', edgecolor='black')\n",
    "plt.xlabel('Airport (Origin)')\n",
    "plt.ylabel('Total Delays (minutes)')\n",
    "plt.title(f'Top Airports with Most Delays in Month {most_delayed_month}')\n",
    "plt.show()"
   ]
  },
  {
   "cell_type": "code",
   "execution_count": null,
   "metadata": {},
   "outputs": [
    {
     "ename": "",
     "evalue": "",
     "output_type": "error",
     "traceback": [
      "\u001b[1;31mRunning cells with '/Users/nandhininatarajan/.pyenv/versions/3.9.2/bin/python' requires the ipykernel package.\n",
      "\u001b[1;31mRun the following command to install 'ipykernel' into the Python environment. \n",
      "\u001b[1;31mCommand: '/Users/nandhininatarajan/.pyenv/versions/3.9.2/bin/python -m pip install ipykernel -U --force-reinstall'"
     ]
    }
   ],
   "source": [
    "# count flights based on the origin state\n",
    "origin_flights = flight_data_df.groupby('ORIGIN_ST', observed=False)['FLIGHT_ID'].count().reset_index()\n",
    "origin_flights.columns = ['State', 'Total_Flights_Origin']\n",
    "\n",
    "# count flights based on the destination state\n",
    "destination_flights = flight_data_df.groupby('DEST_ST', observed=False)['FLIGHT_ID'].count().reset_index()\n",
    "destination_flights.columns = ['State', 'Total_Flights_Dest']\n",
    "\n",
    "# merge both orgin & destination counts to get total flights by state\n",
    "total_flights_by_state = origin_flights.merge(destination_flights, on='State', how='outer')\n",
    "total_flights_by_state['Total_Flights'] = total_flights_by_state['Total_Flights_Origin'] + total_flights_by_state['Total_Flights_Dest']\n",
    "\n",
    "# filter states so we only get flights from the three states\n",
    "selected_states = total_flights_by_state[total_flights_by_state['State'].isin(['AZ', 'NV', 'CA'])]\n",
    "\n",
    "# plot the bar graph\n",
    "plt.figure(figsize=(10, 6))\n",
    "plt.bar(selected_states['State'], selected_states['Total_Flights'], color='paleturquoise', edgecolor='black')\n",
    "\n",
    "# style the graph\n",
    "plt.xlabel('State')\n",
    "plt.ylabel('Total Number of Flights')\n",
    "plt.title('Total Flights by State (AZ, NV, CA)')\n",
    "plt.show()"
   ]
  },
  {
   "cell_type": "code",
   "execution_count": null,
   "metadata": {},
   "outputs": [
    {
     "ename": "",
     "evalue": "",
     "output_type": "error",
     "traceback": [
      "\u001b[1;31mRunning cells with '/Users/nandhininatarajan/.pyenv/versions/3.9.2/bin/python' requires the ipykernel package.\n",
      "\u001b[1;31mRun the following command to install 'ipykernel' into the Python environment. \n",
      "\u001b[1;31mCommand: '/Users/nandhininatarajan/.pyenv/versions/3.9.2/bin/python -m pip install ipykernel -U --force-reinstall'"
     ]
    }
   ],
   "source": [
    "# variables that are gonna be used to use function\n",
    "index = 0\n",
    "states = ['AZ', 'NV', 'CA']\n",
    "colors = ['lightblue', 'lightgreen', 'lightcoral']\n",
    "\n",
    "def plot_top5_destinations(state, df, color):\n",
    "\n",
    "    # filters data for the given state\n",
    "    state_data = df[df['ORIGIN_ST'] == state]\n",
    "\n",
    "    # counts the number of flights to each destination\n",
    "    destination_counts = state_data.groupby('DEST', observed=False).size().reset_index(name='Flight_Count')\n",
    "\n",
    "    # gets the top 5 destinations\n",
    "    top_destinations = destination_counts.nlargest(5, 'Flight_Count')\n",
    "\n",
    "    # styles the graph\n",
    "    plt.figure(figsize=(8, 4))\n",
    "    plt.bar(top_destinations['DEST'], top_destinations['Flight_Count'], color=color, edgecolor='black')\n",
    "    plt.title(f'Top 5 Destinations from {state}')\n",
    "    plt.xlabel('Destination Airport')\n",
    "    plt.ylabel('Number of Flights')\n",
    "    plt.show()\n",
    "\n",
    "\n",
    "# Plot the graphs using the function\n",
    "for state in states:\n",
    "    plot_top5_destinations(state, flight_data_df, color=colors[index])\n",
    "    index += 1"
   ]
  },
  {
   "cell_type": "code",
   "execution_count": null,
   "metadata": {},
   "outputs": [
    {
     "ename": "",
     "evalue": "",
     "output_type": "error",
     "traceback": [
      "\u001b[1;31mRunning cells with '/Users/nandhininatarajan/.pyenv/versions/3.9.2/bin/python' requires the ipykernel package.\n",
      "\u001b[1;31mRun the following command to install 'ipykernel' into the Python environment. \n",
      "\u001b[1;31mCommand: '/Users/nandhininatarajan/.pyenv/versions/3.9.2/bin/python -m pip install ipykernel -U --force-reinstall'"
     ]
    }
   ],
   "source": [
    "# Step 1: Aggregate delays by state of destination\n",
    "state_delays = flight_data_df.groupby(['DEST_ST'], observed=False).agg(\n",
    "    sum_departure_delay=('DEP_DELAY', 'sum'),\n",
    "    sum_arrival_delay=('ARR_DELAY', 'sum')\n",
    ").reset_index()\n",
    "\n",
    "# Sort states by the total sum of departure delays\n",
    "sorted_state_delays = state_delays.sort_values(by='sum_departure_delay', ascending=False)\n",
    "\n",
    "# Plot top 10 states by departure delay\n",
    "plt.figure(figsize=(12, 6))\n",
    "plt.barh(sorted_state_delays['DEST_ST'].head(10), sorted_state_delays['sum_departure_delay'].head(10), color='blue')\n",
    "plt.title('Top 10 States by Total Departure Delay')\n",
    "plt.ylabel('Destination State')\n",
    "plt.xlabel('Total Departure Delay (minutes)')\n",
    "plt.gca().invert_yaxis()  # Invert y-axis for better visualization\n",
    "plt.show()\n",
    "\n",
    "# Plot top 10 states by arrival delay\n",
    "plt.figure(figsize=(12, 6))\n",
    "plt.barh(sorted_state_delays['DEST_ST'].head(10), sorted_state_delays['sum_arrival_delay'].head(10), color='orange')\n",
    "plt.title('Top 10 States by Total Arrival Delay')\n",
    "plt.ylabel('Destination State')\n",
    "plt.xlabel('Total Arrival Delay (minutes)')\n",
    "plt.gca().invert_yaxis()  # Invert y-axis for better visualization\n",
    "plt.show()"
   ]
  },
  {
   "cell_type": "code",
   "execution_count": null,
   "metadata": {},
   "outputs": [
    {
     "ename": "",
     "evalue": "",
     "output_type": "error",
     "traceback": [
      "\u001b[1;31mRunning cells with '/Users/nandhininatarajan/.pyenv/versions/3.9.2/bin/python' requires the ipykernel package.\n",
      "\u001b[1;31mRun the following command to install 'ipykernel' into the Python environment. \n",
      "\u001b[1;31mCommand: '/Users/nandhininatarajan/.pyenv/versions/3.9.2/bin/python -m pip install ipykernel -U --force-reinstall'"
     ]
    }
   ],
   "source": [
    "# Step 1: Group the data by carrier to calculate delay statistics\n",
    "carrier_delay_stats = flight_data_df.groupby('CARRIER_CODE').agg(\n",
    "    avg_dep_delay=('DEP_DELAY', 'mean'),\n",
    "    max_dep_delay=('DEP_DELAY', 'max'),\n",
    "    min_dep_delay=('DEP_DELAY', 'min'),\n",
    "    avg_arr_delay=('ARR_DELAY', 'mean'),\n",
    "    max_arr_delay=('ARR_DELAY', 'max'),\n",
    "    min_arr_delay=('ARR_DELAY', 'min')\n",
    ").reset_index()\n",
    "\n",
    "# Sort carriers by average departure delay\n",
    "carrier_delay_stats_sorted = carrier_delay_stats.sort_values(by='avg_dep_delay',\\\n",
    "                                                             ascending=False)\n",
    "\n",
    "# Step 2: Visualize top 10 carriers by average departure delay\n",
    "top_10_carriers = carrier_delay_stats_sorted.head(10)\n",
    "\n",
    "# Plot for average departure delay\n",
    "plt.figure(figsize=(10, 5))\n",
    "plt.bar(top_10_carriers['CARRIER_CODE'], top_10_carriers['avg_dep_delay'], \\\n",
    "        color='green')\n",
    "plt.title('Top 10 Carriers by Average Departure Delay')\n",
    "plt.xlabel('Carrier Code')\n",
    "plt.ylabel('Average Departure Delay (minutes)')\n",
    "plt.xticks(rotation=45)\n",
    "plt.show()\n",
    "\n",
    "# Plot for average arrival delay\n",
    "plt.figure(figsize=(10, 5))\n",
    "plt.bar(top_10_carriers['CARRIER_CODE'], top_10_carriers['avg_arr_delay'], \\\n",
    "        color='orange')\n",
    "plt.title('Top 10 Carriers by Average Arrival Delay')\n",
    "plt.xlabel('Carrier Code')\n",
    "plt.ylabel('Average Arrival Delay (minutes)')\n",
    "plt.xticks(rotation=45)\n",
    "plt.show()"
   ]
  },
  {
   "cell_type": "markdown",
   "metadata": {},
   "source": [
    "Based on average departure and arrival delays, G4 (Allegiant Air) and YV (Mesa Airlines) are the airlines most likely to experience flight delays. B6 (JetBlue Airways) and F9 (Frontier Airlines) are the next most likely carriers to experience delays. When compared to other airlines in the dataset, these airlines consistently have larger average delays.\n",
    "There is an increase in the frequency of delays in some areas, with particular destination states reporting noticeably greater overall arrival and departure delays. This pattern suggests that some routes or regions are more prone to flight delays. These regions may be affected by state-specific airport operations and or weather."
   ]
  },
  {
   "cell_type": "code",
   "execution_count": null,
   "metadata": {},
   "outputs": [
    {
     "ename": "",
     "evalue": "",
     "output_type": "error",
     "traceback": [
      "\u001b[1;31mRunning cells with '/Users/nandhininatarajan/.pyenv/versions/3.9.2/bin/python' requires the ipykernel package.\n",
      "\u001b[1;31mRun the following command to install 'ipykernel' into the Python environment. \n",
      "\u001b[1;31mCommand: '/Users/nandhininatarajan/.pyenv/versions/3.9.2/bin/python -m pip install ipykernel -U --force-reinstall'"
     ]
    }
   ],
   "source": [
    "# 5.1 Evaluate which airlines have the best performance in the region. Display the top 10 airlines.\n",
    "\n",
    "# Group data by carrier and calculated delay stats\n",
    "carrier_performance_stats = flight_data_df.groupby('CARRIER_CODE').agg(\n",
    "    avg_dep_delay=('DEP_DELAY', 'mean'),\n",
    "    avg_arr_delay=('ARR_DELAY', 'mean')\n",
    ").reset_index()\n",
    "\n",
    "# Step 2: Calculate combined delay score (average of departure and arrival delays)\n",
    "carrier_performance_stats['combined_delay'] = (carrier_performance_stats['avg_dep_delay'] + carrier_performance_stats['avg_arr_delay']) / 2\n",
    "\n",
    "# Step 3: Sort carriers by the combined delay score (ascending order for best performance)\n",
    "carrier_best_performance = carrier_performance_stats.sort_values(by='combined_delay', ascending=True)\n",
    "\n",
    "# Step 4: Select the top 10 airlines with the best performance (lowest combined delay)\n",
    "top_10_best_performance = carrier_best_performance.head(10)\n",
    "print(top_10_best_performance)"
   ]
  },
  {
   "cell_type": "code",
   "execution_count": null,
   "metadata": {},
   "outputs": [
    {
     "ename": "",
     "evalue": "",
     "output_type": "error",
     "traceback": [
      "\u001b[1;31mRunning cells with '/Users/nandhininatarajan/.pyenv/versions/3.9.2/bin/python' requires the ipykernel package.\n",
      "\u001b[1;31mRun the following command to install 'ipykernel' into the Python environment. \n",
      "\u001b[1;31mCommand: '/Users/nandhininatarajan/.pyenv/versions/3.9.2/bin/python -m pip install ipykernel -U --force-reinstall'"
     ]
    }
   ],
   "source": [
    "# Calculate flight duration in minutes and convert to hours\n",
    "flight_data_df['FLIGHT_DURATION'] = (flight_data_df['ARRIVAL_DATETIME'] - flight_data_df['DEPARTURE_DATETIME']).dt.total_seconds() / 60\n",
    "flight_data_df['FLIGHT_HOURS'] = flight_data_df['FLIGHT_DURATION'] / 60\n",
    "\n",
    "\n",
    "# get the month from the dataset and group to calculate the total hours\n",
    "flight_data_df['Month'] = flight_data_df['FL_DATE'].dt.month\n",
    "monthly_flight_hours = flight_data_df.groupby(['CARRIER_CODE', 'Month'])['FLIGHT_HOURS'].sum().reset_index()\n",
    "\n",
    "# calculate total flight hours for each airline\n",
    "total_flight_hours_per_airline = monthly_flight_hours.groupby('CARRIER_CODE')['FLIGHT_HOURS'].sum().reset_index()\n",
    "total_flight_hours_per_airline = total_flight_hours_per_airline.sort_values(by='FLIGHT_HOURS', ascending=False)\n",
    "\n",
    "# get the top 10 total flight hours\n",
    "top_10_airlines_flight_hours = total_flight_hours_per_airline.head(10)\n",
    "\n",
    "print(top_10_airlines_flight_hours)"
   ]
  },
  {
   "cell_type": "code",
   "execution_count": null,
   "metadata": {},
   "outputs": [
    {
     "ename": "",
     "evalue": "",
     "output_type": "error",
     "traceback": [
      "\u001b[1;31mRunning cells with '/Users/nandhininatarajan/.pyenv/versions/3.9.2/bin/python' requires the ipykernel package.\n",
      "\u001b[1;31mRun the following command to install 'ipykernel' into the Python environment. \n",
      "\u001b[1;31mCommand: '/Users/nandhininatarajan/.pyenv/versions/3.9.2/bin/python -m pip install ipykernel -U --force-reinstall'"
     ]
    }
   ],
   "source": [
    "# Plot for the top 10 airlines by total flight hours\n",
    "plt.figure(figsize=(10, 5))\n",
    "plt.bar(top_10_airlines_flight_hours['CARRIER_CODE'], top_10_airlines_flight_hours['FLIGHT_HOURS'], color='lightgreen')\n",
    "plt.title('Top 10 Airlines by Total Flight Hours')\n",
    "plt.xlabel('Carrier Code')\n",
    "plt.ylabel('Total Flight Hours')\n",
    "plt.xticks(rotation=45)\n",
    "plt.show()"
   ]
  },
  {
   "cell_type": "markdown",
   "metadata": {},
   "source": [
    "Based on our bar graph of the the top 10 airlines by total flight hours, we can see that airlines such as WN which is Southwest Airlines, and AA or American Airlines have a higher amount of total flight hours. This can indicate that these airlines may be more established and may fly internationally while thought that have a lower total hour may be newer or have more limited services. \n",
    "\n",
    "The graph shows the total flight hours of all flights operated by each airline over the months in the dates. This helps show the entire capacity of the airline rather than the frequency of flights or just a certain time period where some airlines may not have flown as much. Using this visual representation, we can also compare the 10 highest airlines. I noticed that there is a drastic difference between the top 6 compared to the 7-10 highest as I was expecting all 10 to be rather similar. "
   ]
  }
 ],
 "metadata": {
  "kernelspec": {
   "display_name": "Python 3",
   "language": "python",
   "name": "python3"
  },
  "language_info": {
   "codemirror_mode": {
    "name": "ipython",
    "version": 3
   },
   "file_extension": ".py",
   "mimetype": "text/x-python",
   "name": "python",
   "nbconvert_exporter": "python",
   "pygments_lexer": "ipython3",
   "version": "3.9.2"
  }
 },
 "nbformat": 4,
 "nbformat_minor": 4
}
